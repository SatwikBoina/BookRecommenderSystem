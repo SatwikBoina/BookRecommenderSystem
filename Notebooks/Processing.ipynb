{
 "cells": [
  {
   "cell_type": "markdown",
   "id": "f8ce20b2",
   "metadata": {},
   "source": [
    "# Book Recommender System \n",
    "## Data Processing"
   ]
  },
  {
   "cell_type": "code",
   "execution_count": 53,
   "id": "f1373c45",
   "metadata": {},
   "outputs": [],
   "source": [
    "import pandas as pd\n",
    "import os\n",
    "import numpy as np\n",
    "import yaml\n"
   ]
  },
  {
   "cell_type": "code",
   "execution_count": null,
   "id": "e3e08b2d",
   "metadata": {},
   "outputs": [],
   "source": []
  },
  {
   "cell_type": "markdown",
   "id": "732e962c",
   "metadata": {},
   "source": [
    "## Read Data from Data folder"
   ]
  },
  {
   "cell_type": "code",
   "execution_count": 54,
   "id": "969b13e7",
   "metadata": {},
   "outputs": [],
   "source": [
    "def load_config(config_path):\n",
    "    \"\"\"\n",
    "    Load the configuration from a YAML file.\n",
    "    \n",
    "    Args:\n",
    "        config_path (str): Path to the YAML configuration file.\n",
    "        \n",
    "    Returns:\n",
    "        dict: Configuration parameters as a dictionary.\n",
    "    \"\"\"\n",
    "    with open(config_path, 'r') as file:\n",
    "        config = yaml.safe_load(file)\n",
    "    return config\n",
    "def read_data(file_path, config):\n",
    "    \"\"\"\n",
    "    Reads a CSV file and returns a DataFrame.\n",
    "    \"\"\"\n",
    "    try:\n",
    "        data_dict = {}\n",
    "        for key, value in config['filename_dictionary'].items():\n",
    "            if value.endswith('.csv'):\n",
    "                # Use on_bad_lines='skip' for pandas >= 1.3.0, else use error_bad_lines=False for older versions\n",
    "                try:\n",
    "                    data_dict[key] = pd.read_csv(\n",
    "                        os.path.join(file_path, value),\n",
    "                        encoding=config['encoding'],\n",
    "                        sep = str(config['seperator']),\n",
    "                        on_bad_lines='skip'  # For pandas >= 1.3.0\n",
    "                    )\n",
    "                except TypeError:\n",
    "                    # Fallback for older pandas versions\n",
    "                    data_dict[key] = pd.read_csv(\n",
    "                        os.path.join(file_path, value),\n",
    "                        encoding=config['encoding'],\n",
    "                        sep=str(config['seperator']),\n",
    "                        error_bad_lines=False  # Deprecated in newer pandas\n",
    "                    )\n",
    "            elif value.endswith('.xlsx'):\n",
    "                data_dict[key] = pd.read_excel(os.path.join(file_path, value))\n",
    "            else:\n",
    "                print(f\"Unsupported file format for {value}\")\n",
    "        return data_dict\n",
    "    except Exception as e:\n",
    "        print(f\"Error reading file {file_path}: {e}\")\n",
    "        return None"
   ]
  },
  {
   "cell_type": "code",
   "execution_count": 55,
   "id": "43a2618c",
   "metadata": {},
   "outputs": [
    {
     "name": "stderr",
     "output_type": "stream",
     "text": [
      "/var/folders/vd/729qptzn30x2hvptqg5739dr0000gn/T/ipykernel_6525/367642750.py:24: DtypeWarning: Columns (3) have mixed types. Specify dtype option on import or set low_memory=False.\n",
      "  data_dict[key] = pd.read_csv(\n"
     ]
    }
   ],
   "source": [
    "config = load_config(os.path.join(os.getcwd(), \"..\",\"config\",'config.yaml'))\n",
    "data_dict = read_data(os.path.join(os.getcwd(), \"..\",\"Data\"), config)"
   ]
  },
  {
   "cell_type": "code",
   "execution_count": 56,
   "id": "7147d912",
   "metadata": {},
   "outputs": [
    {
     "data": {
      "text/plain": [
       "dict_keys(['ratings', 'users', 'books'])"
      ]
     },
     "execution_count": 56,
     "metadata": {},
     "output_type": "execute_result"
    }
   ],
   "source": [
    "data_dict.keys()"
   ]
  },
  {
   "cell_type": "code",
   "execution_count": 58,
   "id": "2463cfd6",
   "metadata": {},
   "outputs": [],
   "source": [
    "rename_dictionary = {\n",
    "    \"ratings\": {\n",
    "        \"User-ID\": \"user_id\",\n",
    "        \"ISBN\": \"isbn\",\n",
    "        \"Book-Rating\": \"rating\"\n",
    "    },\n",
    "    \"users\": {\n",
    "        \"User-ID\": \"user_id\",\n",
    "        \"Location\": \"location\",\n",
    "        \"Age\": \"age\"\n",
    "    },\n",
    "    \"books\": {\n",
    "        \"ISBN\": \"isbn\",\n",
    "        \"Book-Title\": \"title\",\n",
    "        \"Book-Author\": \"author\",\n",
    "        \"Year-Of-Publication\": \"year_of_publication\",\n",
    "        \"Publisher\": \"publisher\",\n",
    "        \"Image-URL-S\": \"image_url_s\",\n",
    "        \"Image-URL-M\": \"image_url_m\",\n",
    "        \"Image-URL-L\": \"image_url_l\"\n",
    "    }\n",
    "}\n"
   ]
  },
  {
   "cell_type": "code",
   "execution_count": null,
   "id": "f4193dc8",
   "metadata": {},
   "outputs": [],
   "source": []
  },
  {
   "cell_type": "markdown",
   "id": "5490dbdb",
   "metadata": {},
   "source": [
    "## Renaming dictionary"
   ]
  },
  {
   "cell_type": "code",
   "execution_count": 59,
   "id": "f769c45f",
   "metadata": {},
   "outputs": [
    {
     "name": "stdout",
     "output_type": "stream",
     "text": [
      "DataFrame for ratings has shape: (1149780, 3)\n",
      "DataFrame for users has shape: (278858, 3)\n",
      "DataFrame for books has shape: (271360, 8)\n"
     ]
    }
   ],
   "source": [
    "for key in data_dict.keys():\n",
    "    if isinstance(data_dict[key], pd.DataFrame):\n",
    "        print(f\"DataFrame for {key} has shape: {data_dict[key].shape}\")\n",
    "        data_dict[key].rename(columns = rename_dictionary[key], inplace=True)\n",
    "    else:\n",
    "        print(f\"{key} is not a DataFrame, it is of type {type(data_dict[key])}\")"
   ]
  },
  {
   "cell_type": "code",
   "execution_count": null,
   "id": "15f5cfde",
   "metadata": {},
   "outputs": [],
   "source": []
  }
 ],
 "metadata": {
  "kernelspec": {
   "display_name": "books",
   "language": "python",
   "name": "python3"
  },
  "language_info": {
   "codemirror_mode": {
    "name": "ipython",
    "version": 3
   },
   "file_extension": ".py",
   "mimetype": "text/x-python",
   "name": "python",
   "nbconvert_exporter": "python",
   "pygments_lexer": "ipython3",
   "version": "3.10.16"
  }
 },
 "nbformat": 4,
 "nbformat_minor": 5
}
